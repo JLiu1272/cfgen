{
 "cells": [
  {
   "cell_type": "markdown",
   "metadata": {},
   "source": [
    "# cfgen demos"
   ]
  },
  {
   "cell_type": "markdown",
   "metadata": {
    "collapsed": true
   },
   "source": [
    "A set of simple example uses of cfgen"
   ]
  },
  {
   "cell_type": "markdown",
   "metadata": {},
   "source": [
    "#### Import package"
   ]
  },
  {
   "cell_type": "code",
   "execution_count": 1,
   "metadata": {
    "collapsed": true
   },
   "outputs": [],
   "source": [
    "from cfgen import *\n",
    "\n",
    "# can turn these off:\n",
    "%load_ext autoreload\n",
    "%autoreload 2\n",
    "# %autoreload 0"
   ]
  },
  {
   "cell_type": "markdown",
   "metadata": {},
   "source": [
    "#### Make a kgram dictionary and token list from a corpus"
   ]
  },
  {
   "cell_type": "code",
   "execution_count": 16,
   "metadata": {
    "collapsed": true
   },
   "outputs": [],
   "source": [
    "CORPUS_PATH = '/Users/william/python_files/cfgen/resources/corpora/frankenstein.txt'\n",
    "MARKOV_ORDER = 1 \n",
    "\n",
    "mycorp = clean_corpus(CORPUS_PATH)\n",
    "tagged_corpus = tag_corpus(mycorp)\n",
    "termrules_mycorp = make_terminal_rules(tagged_corpus)\n",
    "my_kgram = make_kgram(mycorp, k=MARKOV_ORDER)\n"
   ]
  },
  {
   "cell_type": "markdown",
   "metadata": {},
   "source": [
    "## Using the generator"
   ]
  },
  {
   "cell_type": "markdown",
   "metadata": {},
   "source": [
    "#### A fixed context-free grammar with no Markov chain word selection"
   ]
  },
  {
   "cell_type": "code",
   "execution_count": 13,
   "metadata": {
    "collapsed": false
   },
   "outputs": [
    {
     "name": "stdout",
     "output_type": "stream",
     "text": [
      "The whence brought as an unexplained subordinate, and a climate astonished in the distinct contact.\n",
      "But the time seen of the distant variability, the a2 transported during the such descent\n",
      "And the new confinement branched, the probability chosen in the formation\n"
     ]
    }
   ],
   "source": [
    "simple_sentence = 'The cow jumped over the moon, and the little dog laughed.'\n",
    "\n",
    "for ii in range(3):\n",
    "    some_txt = make_sentence(mycorp, termrules_mycorp, fixed_grammar=True, sample_sentence=simple_sentence)\n",
    "    some_txt = clean_output_text(some_txt,use_language_tool=True)\n",
    "    print(some_txt)\n",
    "    "
   ]
  },
  {
   "cell_type": "markdown",
   "metadata": {},
   "source": [
    "#### A fixed context-free grammar using a Markov chain word to select words"
   ]
  },
  {
   "cell_type": "code",
   "execution_count": 18,
   "metadata": {
    "collapsed": false
   },
   "outputs": [
    {
     "name": "stdout",
     "output_type": "stream",
     "text": [
      "The old man met with the deep grief, and the sun became.\n",
      "The presence brought, the fate denounced\n",
      "And the girl consented at the sky, but the river selected by a tale otherwise.\n"
     ]
    }
   ],
   "source": [
    "simple_sentence = 'The cow jumped over the moon, and the little dog laughed.'\n",
    "\n",
    "for ii in range(3):\n",
    "    some_txt = make_sentence(mycorp, termrules_mycorp, my_kgram, fixed_grammar=True, sample_sentence=simple_sentence)\n",
    "    some_txt = clean_output_text(some_txt,use_language_tool=True)\n",
    "    print(some_txt)"
   ]
  },
  {
   "cell_type": "markdown",
   "metadata": {},
   "source": [
    "#### Parse a random sentence from the input text, but don't use Markov chain to select words"
   ]
  },
  {
   "cell_type": "code",
   "execution_count": 9,
   "metadata": {
    "collapsed": false
   },
   "outputs": [
    {
     "name": "stdout",
     "output_type": "stream",
     "text": [
      "The friendship lived and gave that completion.\n",
      "Of the disappointment dropped I others was which passes remained which is where even been is opened was the night of victims of oaks with he of in had scarcely distress hasten said I, you was why, and the may are passed of a none\n",
      "I that give horrible she to are yielded pursue this justice, I refuse its miseries: appeared his entreaties do so fruitlessly refined interest and earnestly yet next\n"
     ]
    }
   ],
   "source": [
    "for ii in range(3):\n",
    "    some_txt = make_sentence(mycorp, termrules_mycorp)\n",
    "    some_txt = clean_output_text(some_txt,use_language_tool=True)\n",
    "    print(some_txt)"
   ]
  },
  {
   "cell_type": "markdown",
   "metadata": {},
   "source": [
    "#### Parse a random sentence from the input text, and use Markov chain to select words"
   ]
  },
  {
   "cell_type": "code",
   "execution_count": 11,
   "metadata": {
    "collapsed": false
   },
   "outputs": [
    {
     "name": "stdout",
     "output_type": "stream",
     "text": [
      "With length and preside, have spent as kind.\n",
      "Me is sometimes constructed and new of science and scion.\n",
      "A guilelessness buried the, latter voice\n"
     ]
    }
   ],
   "source": [
    "for ii in range(3):\n",
    "    some_txt = make_sentence(mycorp, termrules_mycorp, my_kgram)\n",
    "    some_txt = clean_output_text(some_txt,use_language_tool=True)\n",
    "    print(some_txt)"
   ]
  },
  {
   "cell_type": "code",
   "execution_count": null,
   "metadata": {
    "collapsed": true
   },
   "outputs": [],
   "source": []
  }
 ],
 "metadata": {
  "kernelspec": {
   "display_name": "Python 2",
   "language": "python",
   "name": "python2"
  },
  "language_info": {
   "codemirror_mode": {
    "name": "ipython",
    "version": 2
   },
   "file_extension": ".py",
   "mimetype": "text/x-python",
   "name": "python",
   "nbconvert_exporter": "python",
   "pygments_lexer": "ipython2",
   "version": "2.7.11"
  }
 },
 "nbformat": 4,
 "nbformat_minor": 0
}
